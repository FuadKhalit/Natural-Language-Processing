{
  "nbformat": 4,
  "nbformat_minor": 0,
  "metadata": {
    "colab": {
      "name": "Loss_function_experiment",
      "provenance": [],
      "authorship_tag": "ABX9TyMdU+oGqSeQBoSQpRpLpp+M",
      "include_colab_link": true
    },
    "kernelspec": {
      "name": "python3",
      "display_name": "Python 3"
    }
  },
  "cells": [
    {
      "cell_type": "markdown",
      "metadata": {
        "id": "view-in-github",
        "colab_type": "text"
      },
      "source": [
        "<a href=\"https://colab.research.google.com/github/FuadKhalit/Natural-Language-Processing/blob/master/Loss_function_experiment.ipynb\" target=\"_parent\"><img src=\"https://colab.research.google.com/assets/colab-badge.svg\" alt=\"Open In Colab\"/></a>"
      ]
    },
    {
      "cell_type": "code",
      "metadata": {
        "id": "QVStObpjeqPB",
        "colab_type": "code",
        "colab": {}
      },
      "source": [
        "import json\n",
        "import tensorflow as tf\n",
        "\n",
        "from tensorflow.keras.preprocessing.text import Tokenizer\n",
        "from tensorflow.keras.preprocessing.sequence import pad_sequences"
      ],
      "execution_count": 1,
      "outputs": []
    },
    {
      "cell_type": "markdown",
      "metadata": {
        "id": "pdoMGfXRfsbO",
        "colab_type": "text"
      },
      "source": [
        "# The Hyperparameter \n",
        "hyperparameter is important for tweaking & explore the impact on training"
      ]
    },
    {
      "cell_type": "code",
      "metadata": {
        "id": "Xg_OQA4ue1Ky",
        "colab_type": "code",
        "colab": {}
      },
      "source": [
        "vocab_size = 3000 # original was10,000\n",
        "embedding_dim = 16\n",
        "max_length = 128 # original was 100\n",
        "trunc_type='post'\n",
        "padding_type='post'\n",
        "oov_tok = \"<OOV>\"\n",
        "training_size = 20000\n",
        "\n",
        "#original accuracy was 0.9938 but val_loss: 1.1478 - val_accuracy: 0.8106 (validation loss to high)\n",
        "#This setting accuracy: 0.9052 - val_loss: 0.4463 - val_accuracy: 0.8289 (validation loss just nice)"
      ],
      "execution_count": 91,
      "outputs": []
    },
    {
      "cell_type": "code",
      "metadata": {
        "id": "8sSyLPeHe4Uc",
        "colab_type": "code",
        "colab": {
          "base_uri": "https://localhost:8080/",
          "height": 202
        },
        "outputId": "0a9fa51c-c73c-4b0e-a646-214262d5e2a9"
      },
      "source": [
        "!wget --no-check-certificate \\\n",
        "    https://storage.googleapis.com/laurencemoroney-blog.appspot.com/sarcasm.json \\\n",
        "    -O /tmp/sarcasm.json\n"
      ],
      "execution_count": 92,
      "outputs": [
        {
          "output_type": "stream",
          "text": [
            "--2020-07-02 13:40:34--  https://storage.googleapis.com/laurencemoroney-blog.appspot.com/sarcasm.json\n",
            "Resolving storage.googleapis.com (storage.googleapis.com)... 74.125.20.128, 74.125.142.128, 74.125.195.128, ...\n",
            "Connecting to storage.googleapis.com (storage.googleapis.com)|74.125.20.128|:443... connected.\n",
            "HTTP request sent, awaiting response... 200 OK\n",
            "Length: 5643545 (5.4M) [application/json]\n",
            "Saving to: ‘/tmp/sarcasm.json’\n",
            "\n",
            "\r/tmp/sarcasm.json     0%[                    ]       0  --.-KB/s               \r/tmp/sarcasm.json   100%[===================>]   5.38M  --.-KB/s    in 0.03s   \n",
            "\n",
            "2020-07-02 13:40:35 (180 MB/s) - ‘/tmp/sarcasm.json’ saved [5643545/5643545]\n",
            "\n"
          ],
          "name": "stdout"
        }
      ]
    },
    {
      "cell_type": "code",
      "metadata": {
        "id": "MO3hKaxAe7c5",
        "colab_type": "code",
        "colab": {}
      },
      "source": [
        "with open(\"/tmp/sarcasm.json\", 'r') as f:\n",
        "    datastore = json.load(f)\n",
        "\n",
        "sentences = []\n",
        "labels = []\n",
        "\n",
        "for item in datastore:\n",
        "    sentences.append(item['headline'])\n",
        "    labels.append(item['is_sarcastic'])"
      ],
      "execution_count": 93,
      "outputs": []
    },
    {
      "cell_type": "code",
      "metadata": {
        "id": "-5pbWhV9e_yS",
        "colab_type": "code",
        "colab": {}
      },
      "source": [
        "training_sentences = sentences[0:training_size]\n",
        "testing_sentences = sentences[training_size:]\n",
        "training_labels = labels[0:training_size]\n",
        "testing_labels = labels[training_size:]"
      ],
      "execution_count": 94,
      "outputs": []
    },
    {
      "cell_type": "code",
      "metadata": {
        "id": "Ovsm2iJ9fCkQ",
        "colab_type": "code",
        "colab": {}
      },
      "source": [
        "tokenizer = Tokenizer(num_words=vocab_size, oov_token=oov_tok)\n",
        "tokenizer.fit_on_texts(training_sentences)\n",
        "\n",
        "word_index = tokenizer.word_index\n",
        "\n",
        "training_sequences = tokenizer.texts_to_sequences(training_sentences)\n",
        "training_padded = pad_sequences(training_sequences, maxlen=max_length, padding=padding_type, truncating=trunc_type)\n",
        "\n",
        "testing_sequences = tokenizer.texts_to_sequences(testing_sentences)\n",
        "testing_padded = pad_sequences(testing_sequences, maxlen=max_length, padding=padding_type, truncating=trunc_type)"
      ],
      "execution_count": 95,
      "outputs": []
    },
    {
      "cell_type": "code",
      "metadata": {
        "id": "zg3Pe80yfFJL",
        "colab_type": "code",
        "colab": {}
      },
      "source": [
        "# Need this block to get it to work with TensorFlow 2.x\n",
        "import numpy as np\n",
        "training_padded = np.array(training_padded)\n",
        "training_labels = np.array(training_labels)\n",
        "testing_padded = np.array(testing_padded)\n",
        "testing_labels = np.array(testing_labels)"
      ],
      "execution_count": 97,
      "outputs": []
    },
    {
      "cell_type": "markdown",
      "metadata": {
        "id": "ZCCc0Vc3giAe",
        "colab_type": "text"
      },
      "source": [
        "we use global average pooling 1d instead of flatten"
      ]
    },
    {
      "cell_type": "code",
      "metadata": {
        "id": "C-7BYIwcfOZg",
        "colab_type": "code",
        "colab": {}
      },
      "source": [
        "model = tf.keras.Sequential([\n",
        "    tf.keras.layers.Embedding(vocab_size, embedding_dim, input_length=max_length),\n",
        "    tf.keras.layers.GlobalAveragePooling1D(),\n",
        "    tf.keras.layers.Dense(24, activation='relu'),\n",
        "    tf.keras.layers.Dense(1, activation='sigmoid')\n",
        "])\n",
        "model.compile(loss='binary_crossentropy',optimizer='adam',metrics=['accuracy'])"
      ],
      "execution_count": 98,
      "outputs": []
    },
    {
      "cell_type": "code",
      "metadata": {
        "id": "C76pT9BQfQYd",
        "colab_type": "code",
        "colab": {
          "base_uri": "https://localhost:8080/",
          "height": 286
        },
        "outputId": "d12b7ede-fd29-4ade-8e98-5d57e7b0a739"
      },
      "source": [
        "model.summary()\n"
      ],
      "execution_count": 99,
      "outputs": [
        {
          "output_type": "stream",
          "text": [
            "Model: \"sequential_9\"\n",
            "_________________________________________________________________\n",
            "Layer (type)                 Output Shape              Param #   \n",
            "=================================================================\n",
            "embedding_9 (Embedding)      (None, 128, 16)           48000     \n",
            "_________________________________________________________________\n",
            "global_average_pooling1d_9 ( (None, 16)                0         \n",
            "_________________________________________________________________\n",
            "dense_18 (Dense)             (None, 24)                408       \n",
            "_________________________________________________________________\n",
            "dense_19 (Dense)             (None, 1)                 25        \n",
            "=================================================================\n",
            "Total params: 48,433\n",
            "Trainable params: 48,433\n",
            "Non-trainable params: 0\n",
            "_________________________________________________________________\n"
          ],
          "name": "stdout"
        }
      ]
    },
    {
      "cell_type": "code",
      "metadata": {
        "id": "T3AN14zMfTLr",
        "colab_type": "code",
        "colab": {
          "base_uri": "https://localhost:8080/",
          "height": 1000
        },
        "outputId": "fdc10436-9263-4013-b5b6-20be3fc8466a"
      },
      "source": [
        "num_epochs = 30\n",
        "history = model.fit(training_padded, training_labels, epochs=num_epochs, validation_data=(testing_padded, testing_labels), verbose=2)"
      ],
      "execution_count": 100,
      "outputs": [
        {
          "output_type": "stream",
          "text": [
            "Epoch 1/30\n",
            "625/625 - 2s - loss: 0.6802 - accuracy: 0.5603 - val_loss: 0.6574 - val_accuracy: 0.5634\n",
            "Epoch 2/30\n",
            "625/625 - 1s - loss: 0.5066 - accuracy: 0.7603 - val_loss: 0.4170 - val_accuracy: 0.8123\n",
            "Epoch 3/30\n",
            "625/625 - 1s - loss: 0.3647 - accuracy: 0.8420 - val_loss: 0.3780 - val_accuracy: 0.8322\n",
            "Epoch 4/30\n",
            "625/625 - 1s - loss: 0.3263 - accuracy: 0.8609 - val_loss: 0.3706 - val_accuracy: 0.8329\n",
            "Epoch 5/30\n",
            "625/625 - 1s - loss: 0.3063 - accuracy: 0.8688 - val_loss: 0.3621 - val_accuracy: 0.8422\n",
            "Epoch 6/30\n",
            "625/625 - 1s - loss: 0.2915 - accuracy: 0.8773 - val_loss: 0.3681 - val_accuracy: 0.8332\n",
            "Epoch 7/30\n",
            "625/625 - 1s - loss: 0.2803 - accuracy: 0.8819 - val_loss: 0.3896 - val_accuracy: 0.8225\n",
            "Epoch 8/30\n",
            "625/625 - 1s - loss: 0.2719 - accuracy: 0.8850 - val_loss: 0.3659 - val_accuracy: 0.8399\n",
            "Epoch 9/30\n",
            "625/625 - 1s - loss: 0.2649 - accuracy: 0.8881 - val_loss: 0.3750 - val_accuracy: 0.8359\n",
            "Epoch 10/30\n",
            "625/625 - 1s - loss: 0.2609 - accuracy: 0.8902 - val_loss: 0.3744 - val_accuracy: 0.8384\n",
            "Epoch 11/30\n",
            "625/625 - 1s - loss: 0.2572 - accuracy: 0.8891 - val_loss: 0.3850 - val_accuracy: 0.8326\n",
            "Epoch 12/30\n",
            "625/625 - 1s - loss: 0.2515 - accuracy: 0.8921 - val_loss: 0.3908 - val_accuracy: 0.8362\n",
            "Epoch 13/30\n",
            "625/625 - 1s - loss: 0.2496 - accuracy: 0.8961 - val_loss: 0.3911 - val_accuracy: 0.8340\n",
            "Epoch 14/30\n",
            "625/625 - 1s - loss: 0.2479 - accuracy: 0.8963 - val_loss: 0.3937 - val_accuracy: 0.8337\n",
            "Epoch 15/30\n",
            "625/625 - 1s - loss: 0.2456 - accuracy: 0.8960 - val_loss: 0.4010 - val_accuracy: 0.8295\n",
            "Epoch 16/30\n",
            "625/625 - 1s - loss: 0.2409 - accuracy: 0.8974 - val_loss: 0.4056 - val_accuracy: 0.8322\n",
            "Epoch 17/30\n",
            "625/625 - 1s - loss: 0.2399 - accuracy: 0.9003 - val_loss: 0.4087 - val_accuracy: 0.8296\n",
            "Epoch 18/30\n",
            "625/625 - 1s - loss: 0.2416 - accuracy: 0.8982 - val_loss: 0.4108 - val_accuracy: 0.8326\n",
            "Epoch 19/30\n",
            "625/625 - 1s - loss: 0.2396 - accuracy: 0.9007 - val_loss: 0.4169 - val_accuracy: 0.8308\n",
            "Epoch 20/30\n",
            "625/625 - 1s - loss: 0.2371 - accuracy: 0.9014 - val_loss: 0.4176 - val_accuracy: 0.8302\n",
            "Epoch 21/30\n",
            "625/625 - 1s - loss: 0.2356 - accuracy: 0.9030 - val_loss: 0.4211 - val_accuracy: 0.8316\n",
            "Epoch 22/30\n",
            "625/625 - 1s - loss: 0.2344 - accuracy: 0.9020 - val_loss: 0.4311 - val_accuracy: 0.8265\n",
            "Epoch 23/30\n",
            "625/625 - 1s - loss: 0.2347 - accuracy: 0.9021 - val_loss: 0.4307 - val_accuracy: 0.8296\n",
            "Epoch 24/30\n",
            "625/625 - 1s - loss: 0.2341 - accuracy: 0.9014 - val_loss: 0.4333 - val_accuracy: 0.8298\n",
            "Epoch 25/30\n",
            "625/625 - 1s - loss: 0.2331 - accuracy: 0.9025 - val_loss: 0.4321 - val_accuracy: 0.8313\n",
            "Epoch 26/30\n",
            "625/625 - 1s - loss: 0.2316 - accuracy: 0.9036 - val_loss: 0.4349 - val_accuracy: 0.8299\n",
            "Epoch 27/30\n",
            "625/625 - 1s - loss: 0.2313 - accuracy: 0.9033 - val_loss: 0.4441 - val_accuracy: 0.8237\n",
            "Epoch 28/30\n",
            "625/625 - 1s - loss: 0.2340 - accuracy: 0.9015 - val_loss: 0.4436 - val_accuracy: 0.8271\n",
            "Epoch 29/30\n",
            "625/625 - 1s - loss: 0.2310 - accuracy: 0.9043 - val_loss: 0.4401 - val_accuracy: 0.8298\n",
            "Epoch 30/30\n",
            "625/625 - 1s - loss: 0.2292 - accuracy: 0.9052 - val_loss: 0.4463 - val_accuracy: 0.8289\n"
          ],
          "name": "stdout"
        }
      ]
    },
    {
      "cell_type": "code",
      "metadata": {
        "id": "EB5aTpjzfVny",
        "colab_type": "code",
        "colab": {
          "base_uri": "https://localhost:8080/",
          "height": 544
        },
        "outputId": "488bd9fc-ce56-4499-af83-31dc9ab41bd8"
      },
      "source": [
        "import matplotlib.pyplot as plt\n",
        "\n",
        "\n",
        "def plot_graphs(history, string):\n",
        "  plt.plot(history.history[string])\n",
        "  plt.plot(history.history['val_'+string])\n",
        "  plt.xlabel(\"Epochs\")\n",
        "  plt.ylabel(string)\n",
        "  plt.legend([string, 'val_'+string])\n",
        "  plt.show()\n",
        "  \n",
        "plot_graphs(history, \"accuracy\")\n",
        "plot_graphs(history, \"loss\")"
      ],
      "execution_count": 101,
      "outputs": [
        {
          "output_type": "display_data",
          "data": {
            "image/png": "[encoded data removed]",
            "text/plain": [
              "<Figure size 432x288 with 1 Axes>"
            ]
          },
          "metadata": {
            "tags": [],
            "needs_background": "light"
          }
        },
        {
          "output_type": "display_data",
          "data": {
            "image/png": "[encoded data removed]",
            "text/plain": [
              "<Figure size 432x288 with 1 Axes>"
            ]
          },
          "metadata": {
            "tags": [],
            "needs_background": "light"
          }
        }
      ]
    },
    {
      "cell_type": "code",
      "metadata": {
        "id": "z1HmKTr-fXrI",
        "colab_type": "code",
        "colab": {
          "base_uri": "https://localhost:8080/",
          "height": 87
        },
        "outputId": "15e300fc-6320-41a1-dfa6-042145657c6f"
      },
      "source": [
        "reverse_word_index = dict([(value, key) for (key, value) in word_index.items()])\n",
        "\n",
        "def decode_sentence(text):\n",
        "    return ' '.join([reverse_word_index.get(i, '?') for i in text])\n",
        "\n",
        "print(decode_sentence(training_padded[0]))\n",
        "print(training_sentences[2])\n",
        "print(labels[2])"
      ],
      "execution_count": 102,
      "outputs": [
        {
          "output_type": "stream",
          "text": [
            "former <OOV> store <OOV> sues over secret 'black <OOV> for minority <OOV> ? ? ? ? ? ? ? ? ? ? ? ? ? ? ? ? ? ? ? ? ? ? ? ? ? ? ? ? ? ? ? ? ? ? ? ? ? ? ? ? ? ? ? ? ? ? ? ? ? ? ? ? ? ? ? ? ? ? ? ? ? ? ? ? ? ? ? ? ? ? ? ? ? ? ? ? ? ? ? ? ? ? ? ? ? ? ? ? ? ? ? ? ? ? ? ? ? ? ? ? ? ? ? ? ? ? ? ? ? ? ? ? ? ? ? ?\n",
            "mom starting to fear son's web series closest thing she will have to grandchild\n",
            "1\n"
          ],
          "name": "stdout"
        }
      ]
    },
    {
      "cell_type": "code",
      "metadata": {
        "id": "j-hLTgfgfdUR",
        "colab_type": "code",
        "colab": {
          "base_uri": "https://localhost:8080/",
          "height": 34
        },
        "outputId": "f902c326-714f-4553-a9ad-e17611a5b11d"
      },
      "source": [
        "e = model.layers[0]\n",
        "weights = e.get_weights()[0]\n",
        "print(weights.shape) # shape: (vocab_size, embedding_dim)\n"
      ],
      "execution_count": 103,
      "outputs": [
        {
          "output_type": "stream",
          "text": [
            "(3000, 16)\n"
          ],
          "name": "stdout"
        }
      ]
    },
    {
      "cell_type": "code",
      "metadata": {
        "id": "dlR1StkwfgAm",
        "colab_type": "code",
        "colab": {}
      },
      "source": [
        "import io\n",
        "\n",
        "out_v = io.open('vecs.tsv', 'w', encoding='utf-8')\n",
        "out_m = io.open('meta.tsv', 'w', encoding='utf-8')\n",
        "for word_num in range(1, vocab_size):\n",
        "  word = reverse_word_index[word_num]\n",
        "  embeddings = weights[word_num]\n",
        "  out_m.write(word + \"\\n\")\n",
        "  out_v.write('\\t'.join([str(x) for x in embeddings]) + \"\\n\")\n",
        "out_v.close()\n",
        "out_m.close()"
      ],
      "execution_count": 104,
      "outputs": []
    },
    {
      "cell_type": "code",
      "metadata": {
        "id": "Di6TqSUufhwP",
        "colab_type": "code",
        "colab": {
          "base_uri": "https://localhost:8080/",
          "height": 17
        },
        "outputId": "b279a081-97e0-41ff-ba78-59cab6ccec6b"
      },
      "source": [
        "try:\n",
        "  from google.colab import files\n",
        "except ImportError:\n",
        "  pass\n",
        "else:\n",
        "  files.download('vecs.tsv')\n",
        "  files.download('meta.tsv')"
      ],
      "execution_count": 105,
      "outputs": [
        {
          "output_type": "display_data",
          "data": {
            "application/javascript": [
              "\n",
              "    async function download(id, filename, size) {\n",
              "      if (!google.colab.kernel.accessAllowed) {\n",
              "        return;\n",
              "      }\n",
              "      const div = document.createElement('div');\n",
              "      const label = document.createElement('label');\n",
              "      label.textContent = `Downloading \"${filename}\": `;\n",
              "      div.appendChild(label);\n",
              "      const progress = document.createElement('progress');\n",
              "      progress.max = size;\n",
              "      div.appendChild(progress);\n",
              "      document.body.appendChild(div);\n",
              "\n",
              "      const buffers = [];\n",
              "      let downloaded = 0;\n",
              "\n",
              "      const channel = await google.colab.kernel.comms.open(id);\n",
              "      // Send a message to notify the kernel that we're ready.\n",
              "      channel.send({})\n",
              "\n",
              "      for await (const message of channel.messages) {\n",
              "        // Send a message to notify the kernel that we're ready.\n",
              "        channel.send({})\n",
              "        if (message.buffers) {\n",
              "          for (const buffer of message.buffers) {\n",
              "            buffers.push(buffer);\n",
              "            downloaded += buffer.byteLength;\n",
              "            progress.value = downloaded;\n",
              "          }\n",
              "        }\n",
              "      }\n",
              "      const blob = new Blob(buffers, {type: 'application/binary'});\n",
              "      const a = document.createElement('a');\n",
              "      a.href = window.URL.createObjectURL(blob);\n",
              "      a.download = filename;\n",
              "      div.appendChild(a);\n",
              "      a.click();\n",
              "      div.remove();\n",
              "    }\n",
              "  "
            ],
            "text/plain": [
              "<IPython.core.display.Javascript object>"
            ]
          },
          "metadata": {
            "tags": []
          }
        },
        {
          "output_type": "display_data",
          "data": {
            "application/javascript": [
              "download(\"download_3dc7fb47-1425-42eb-8400-c2f0297be549\", \"vecs.tsv\", 544169)"
            ],
            "text/plain": [
              "<IPython.core.display.Javascript object>"
            ]
          },
          "metadata": {
            "tags": []
          }
        },
        {
          "output_type": "display_data",
          "data": {
            "application/javascript": [
              "\n",
              "    async function download(id, filename, size) {\n",
              "      if (!google.colab.kernel.accessAllowed) {\n",
              "        return;\n",
              "      }\n",
              "      const div = document.createElement('div');\n",
              "      const label = document.createElement('label');\n",
              "      label.textContent = `Downloading \"${filename}\": `;\n",
              "      div.appendChild(label);\n",
              "      const progress = document.createElement('progress');\n",
              "      progress.max = size;\n",
              "      div.appendChild(progress);\n",
              "      document.body.appendChild(div);\n",
              "\n",
              "      const buffers = [];\n",
              "      let downloaded = 0;\n",
              "\n",
              "      const channel = await google.colab.kernel.comms.open(id);\n",
              "      // Send a message to notify the kernel that we're ready.\n",
              "      channel.send({})\n",
              "\n",
              "      for await (const message of channel.messages) {\n",
              "        // Send a message to notify the kernel that we're ready.\n",
              "        channel.send({})\n",
              "        if (message.buffers) {\n",
              "          for (const buffer of message.buffers) {\n",
              "            buffers.push(buffer);\n",
              "            downloaded += buffer.byteLength;\n",
              "            progress.value = downloaded;\n",
              "          }\n",
              "        }\n",
              "      }\n",
              "      const blob = new Blob(buffers, {type: 'application/binary'});\n",
              "      const a = document.createElement('a');\n",
              "      a.href = window.URL.createObjectURL(blob);\n",
              "      a.download = filename;\n",
              "      div.appendChild(a);\n",
              "      a.click();\n",
              "      div.remove();\n",
              "    }\n",
              "  "
            ],
            "text/plain": [
              "<IPython.core.display.Javascript object>"
            ]
          },
          "metadata": {
            "tags": []
          }
        },
        {
          "output_type": "display_data",
          "data": {
            "application/javascript": [
              "download(\"download_f9903cb5-0c90-43a0-820a-43f1ede3acab\", \"meta.tsv\", 20652)"
            ],
            "text/plain": [
              "<IPython.core.display.Javascript object>"
            ]
          },
          "metadata": {
            "tags": []
          }
        }
      ]
    },
    {
      "cell_type": "code",
      "metadata": {
        "id": "Un0yuuonfkz6",
        "colab_type": "code",
        "colab": {
          "base_uri": "https://localhost:8080/",
          "height": 50
        },
        "outputId": "9c84bb75-e398-477a-b0d8-616f81be9b83"
      },
      "source": [
        "sentence = [\"granny starting to fear spiders in the garden might be real\", \"game of thrones season finale showing this sunday night\"]\n",
        "sequences = tokenizer.texts_to_sequences(sentence)\n",
        "padded = pad_sequences(sequences, maxlen=max_length, padding=padding_type, truncating=trunc_type)\n",
        "print(model.predict(padded))"
      ],
      "execution_count": 106,
      "outputs": [
        {
          "output_type": "stream",
          "text": [
            "[[0.975409  ]\n",
            " [0.04125113]]\n"
          ],
          "name": "stdout"
        }
      ]
    }
  ]
}